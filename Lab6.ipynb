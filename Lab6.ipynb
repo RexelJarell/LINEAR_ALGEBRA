{
  "nbformat": 4,
  "nbformat_minor": 0,
  "metadata": {
    "colab": {
      "name": "Lab6.ipynb",
      "provenance": [],
      "collapsed_sections": [
        "SiDcrM2cOVCD",
        "5sVnu6AMP3Qz",
        "jK99ysnoUQIB",
        "eekKxMIrUUDk",
        "UhRcvWm6U2Z2",
        "C3mJb7XtVbUV",
        "wl45t39oV057",
        "uiM4pcmPZD2A",
        "TLBZ4spgaQ4r"
      ],
      "authorship_tag": "ABX9TyOxr+qA/gpyr8jQUDHbFNzP",
      "include_colab_link": true
    },
    "kernelspec": {
      "name": "python3",
      "display_name": "Python 3"
    },
    "language_info": {
      "name": "python"
    }
  },
  "cells": [
    {
      "cell_type": "markdown",
      "metadata": {
        "id": "view-in-github",
        "colab_type": "text"
      },
      "source": [
        "<a href=\"https://colab.research.google.com/github/RexelJarell/LINEAR_ALGEBRA/blob/main/Lab6.ipynb\" target=\"_parent\"><img src=\"https://colab.research.google.com/assets/colab-badge.svg\" alt=\"Open In Colab\"/></a>"
      ]
    },
    {
      "cell_type": "markdown",
      "metadata": {
        "id": "qQdnxe0XEYip"
      },
      "source": [
        "### Linear Algebra for ECE"
      ]
    },
    {
      "cell_type": "markdown",
      "metadata": {
        "id": "OTpFryTuEfpW"
      },
      "source": [
        "## Laboratory 6: Matrix operations"
      ]
    },
    {
      "cell_type": "markdown",
      "metadata": {
        "id": "JXKsFN5mEj4m"
      },
      "source": [
        "now that you have a fundamental knowledge about representing and operating with vectors as well as the fundamentals of matrices, we'll try to the same operations and matrices and even more"
      ]
    },
    {
      "cell_type": "markdown",
      "metadata": {
        "id": "UlBk0-1bEyWg"
      },
      "source": [
        "# objectives\n",
        "at the end of this activity you will be able to:\n",
        "\n",
        " 1. Be familiar with the fundamental matrix operation\n",
        " 2. apply the operations to solve intermediate equations\n",
        " 3. apply matrix algebra in engineering solutions\n",
        " "
      ]
    },
    {
      "cell_type": "markdown",
      "metadata": {
        "id": "RdYtIOYsFH-X"
      },
      "source": [
        "# DISCUSSION"
      ]
    },
    {
      "cell_type": "code",
      "metadata": {
        "id": "eEtLW3K1FOVU"
      },
      "source": [
        "import numpy as np\n",
        "import matplotlib.pyplot as plt\n",
        "%matplotlib inline "
      ],
      "execution_count": null,
      "outputs": []
    },
    {
      "cell_type": "markdown",
      "metadata": {
        "id": "VFiLZ-g8HBM3"
      },
      "source": [
        "#Transposition"
      ]
    },
    {
      "cell_type": "markdown",
      "metadata": {
        "id": "xgNg_-VlHIqs"
      },
      "source": [
        "one of the fundamental operations in matrix algebra is transposition. The transpose of a matrix is done by flipping the values of its elements over diagonals. wuth this, the rows and columns from the original matrix will be switched so for a matrix A its transpose is denoted as $A^T$\n",
        "so for examples\n"
      ]
    },
    {
      "cell_type": "markdown",
      "metadata": {
        "id": "x6eS1anYHn41"
      },
      "source": [
        "$$A = \\begin{bmatrix} 1 & 2 & 5\\\\5 & -1 &0 \\\\ 0 & -3 & 3\\end{bmatrix} $$"
      ]
    },
    {
      "cell_type": "code",
      "metadata": {
        "colab": {
          "base_uri": "https://localhost:8080/"
        },
        "id": "LgnRJpcsH22j",
        "outputId": "cd2bdf79-000a-4c46-9e47-df0d5b3733ff"
      },
      "source": [
        "A = np.array ([\n",
        "               [1, 2 , 5],\n",
        "               [5, -1, 0],\n",
        "               [0, -3, 3]\n",
        "])\n",
        "A"
      ],
      "execution_count": null,
      "outputs": [
        {
          "output_type": "execute_result",
          "data": {
            "text/plain": [
              "array([[ 1,  2,  5],\n",
              "       [ 5, -1,  0],\n",
              "       [ 0, -3,  3]])"
            ]
          },
          "metadata": {},
          "execution_count": 2
        }
      ]
    },
    {
      "cell_type": "code",
      "metadata": {
        "colab": {
          "base_uri": "https://localhost:8080/"
        },
        "id": "w00ytFDzIKVF",
        "outputId": "b10f35e6-d450-451d-f843-01a8577dc42f"
      },
      "source": [
        "AT1 = np.transpose(A)\n",
        "AT1"
      ],
      "execution_count": null,
      "outputs": [
        {
          "output_type": "execute_result",
          "data": {
            "text/plain": [
              "array([[ 1,  5,  0],\n",
              "       [ 2, -1, -3],\n",
              "       [ 5,  0,  3]])"
            ]
          },
          "metadata": {},
          "execution_count": 3
        }
      ]
    },
    {
      "cell_type": "code",
      "metadata": {
        "colab": {
          "base_uri": "https://localhost:8080/"
        },
        "id": "fuTdmCTzIVa_",
        "outputId": "6c9279ad-1557-48a5-b73f-e6311e301c3b"
      },
      "source": [
        "AT2 = A.T\n",
        "AT2"
      ],
      "execution_count": null,
      "outputs": [
        {
          "output_type": "execute_result",
          "data": {
            "text/plain": [
              "array([[ 1,  5,  0],\n",
              "       [ 2, -1, -3],\n",
              "       [ 5,  0,  3]])"
            ]
          },
          "metadata": {},
          "execution_count": 4
        }
      ]
    },
    {
      "cell_type": "code",
      "metadata": {
        "colab": {
          "base_uri": "https://localhost:8080/"
        },
        "id": "sUit7Q0VIi5N",
        "outputId": "b21a70c0-26f1-4aa6-a256-c3309f77dec4"
      },
      "source": [
        "np.array_equiv(AT1, AT2)"
      ],
      "execution_count": null,
      "outputs": [
        {
          "output_type": "execute_result",
          "data": {
            "text/plain": [
              "True"
            ]
          },
          "metadata": {},
          "execution_count": 5
        }
      ]
    },
    {
      "cell_type": "code",
      "metadata": {
        "colab": {
          "base_uri": "https://localhost:8080/"
        },
        "id": "rHl8am_MIq-F",
        "outputId": "1d732d46-2a42-440b-9d05-1a475ab11861"
      },
      "source": [
        "B = np.array([\n",
        "              [1,2,3,4],\n",
        "              [1,0,2,1]\n",
        "])\n",
        "B.shape"
      ],
      "execution_count": null,
      "outputs": [
        {
          "output_type": "execute_result",
          "data": {
            "text/plain": [
              "(2, 4)"
            ]
          },
          "metadata": {},
          "execution_count": 6
        }
      ]
    },
    {
      "cell_type": "code",
      "metadata": {
        "colab": {
          "base_uri": "https://localhost:8080/"
        },
        "id": "H2xT6xdFJLI4",
        "outputId": "b9a7a309-0737-41ea-fcac-24b1d3d60a3a"
      },
      "source": [
        "np.transpose(B).shape"
      ],
      "execution_count": null,
      "outputs": [
        {
          "output_type": "execute_result",
          "data": {
            "text/plain": [
              "(4, 2)"
            ]
          },
          "metadata": {},
          "execution_count": 8
        }
      ]
    },
    {
      "cell_type": "code",
      "metadata": {
        "colab": {
          "base_uri": "https://localhost:8080/"
        },
        "id": "pS1Js7tqKj5D",
        "outputId": "7b719c2d-1338-4c97-cd3e-2a7e4cc9b952"
      },
      "source": [
        "B.T.shape"
      ],
      "execution_count": null,
      "outputs": [
        {
          "output_type": "execute_result",
          "data": {
            "text/plain": [
              "(4, 2)"
            ]
          },
          "metadata": {},
          "execution_count": 9
        }
      ]
    },
    {
      "cell_type": "markdown",
      "metadata": {
        "id": "VzxMiG2cLGWg"
      },
      "source": [
        "# Try to create your own matrix (you can try non squares) to test transposition"
      ]
    },
    {
      "cell_type": "code",
      "metadata": {
        "colab": {
          "base_uri": "https://localhost:8080/"
        },
        "id": "RT9xAjXVLd0w",
        "outputId": "06a2fa9b-97b4-43cf-ef0e-f8c2474fdf48"
      },
      "source": [
        "C = np.array([\n",
        "              [5,6,7,8],\n",
        "              [9,1,3,4],\n",
        "              [1,2,3,4],\n",
        "              [4,3,2,1]\n",
        "])\n",
        "C.shape"
      ],
      "execution_count": null,
      "outputs": [
        {
          "output_type": "execute_result",
          "data": {
            "text/plain": [
              "(4, 4)"
            ]
          },
          "metadata": {},
          "execution_count": 18
        }
      ]
    },
    {
      "cell_type": "code",
      "metadata": {
        "colab": {
          "base_uri": "https://localhost:8080/"
        },
        "id": "VgGiEtDFL1I5",
        "outputId": "421bec21-36a5-4995-d9e3-0205e72ce10a"
      },
      "source": [
        "CT1 = np.transpose(C)\n",
        "CT1"
      ],
      "execution_count": null,
      "outputs": [
        {
          "output_type": "execute_result",
          "data": {
            "text/plain": [
              "array([[5, 9, 1, 4],\n",
              "       [6, 1, 2, 3],\n",
              "       [7, 3, 3, 2],\n",
              "       [8, 4, 4, 1]])"
            ]
          },
          "metadata": {},
          "execution_count": 19
        }
      ]
    },
    {
      "cell_type": "code",
      "metadata": {
        "colab": {
          "base_uri": "https://localhost:8080/"
        },
        "id": "ClX6wmlxLprs",
        "outputId": "9fce2424-40e5-4e8e-f932-c3296e3817a0"
      },
      "source": [
        "np.transpose(C).shape"
      ],
      "execution_count": null,
      "outputs": [
        {
          "output_type": "execute_result",
          "data": {
            "text/plain": [
              "(4, 4)"
            ]
          },
          "metadata": {},
          "execution_count": 20
        }
      ]
    },
    {
      "cell_type": "code",
      "metadata": {
        "colab": {
          "base_uri": "https://localhost:8080/"
        },
        "id": "rLpavhgWLvwC",
        "outputId": "cb15ae7c-6b3d-41b0-a3a1-aa0734f9bdc2"
      },
      "source": [
        "C.T.shape"
      ],
      "execution_count": null,
      "outputs": [
        {
          "output_type": "execute_result",
          "data": {
            "text/plain": [
              "(4, 4)"
            ]
          },
          "metadata": {},
          "execution_count": 21
        }
      ]
    },
    {
      "cell_type": "markdown",
      "metadata": {
        "id": "_koWWNCJMjRD"
      },
      "source": [
        "# Dot product /  inner product"
      ]
    },
    {
      "cell_type": "markdown",
      "metadata": {
        "id": "ECD_2SxEMpSH"
      },
      "source": [
        "If you recall the dot product from laboratory activity before, we will try to implement the same operation with matrices. In matrix dot product we are going to get the sum of products of the vectors by row-column pairs. So if we have two matrices $X$ and $Y$:\n",
        "\n",
        "$$X = \\begin{bmatrix}x_{(0,0)}&x_{(0,1)}\\\\ x_{(1,0)}&x_{(1,1)}\\end{bmatrix}, Y = \\begin{bmatrix}y_{(0,0)}&y_{(0,1)}\\\\ y_{(1,0)}&y_{(1,1)}\\end{bmatrix}$$\n",
        "\n",
        "The dot product will then be computed as:\n",
        "$$X \\cdot Y= \\begin{bmatrix} x_{(0,0)}*y_{(0,0)} + x_{(0,1)}*y_{(1,0)} & x_{(0,0)}*y_{(0,1)} + x_{(0,1)}*y_{(1,1)} \\\\  x_{(1,0)}*y_{(0,0)} + x_{(1,1)}*y_{(1,0)} & x_{(1,0)}*y_{(0,1)} + x_{(1,1)}*y_{(1,1)}\n",
        "\\end{bmatrix}$$\n",
        "\n",
        "So if we assign values to $X$ and $Y$:\n",
        "$$X = \\begin{bmatrix}1&2\\\\ 0&1\\end{bmatrix}, Y = \\begin{bmatrix}-1&0\\\\ 2&2\\end{bmatrix}$$"
      ]
    },
    {
      "cell_type": "code",
      "metadata": {
        "id": "4ycZmNLVN1rA"
      },
      "source": [
        "X = np.array([\n",
        "    [1,2],\n",
        "    [0,1]\n",
        "])\n",
        "Y = np.array([\n",
        "    [-1,0],\n",
        "    [2,2]\n",
        "])"
      ],
      "execution_count": null,
      "outputs": []
    },
    {
      "cell_type": "code",
      "metadata": {
        "colab": {
          "base_uri": "https://localhost:8080/"
        },
        "id": "oEG-SaUHOGdI",
        "outputId": "1353c1e1-495d-4801-f263-e7f72ad6ece4"
      },
      "source": [
        "np.dot(X,Y)"
      ],
      "execution_count": null,
      "outputs": [
        {
          "output_type": "execute_result",
          "data": {
            "text/plain": [
              "array([[3, 4],\n",
              "       [2, 2]])"
            ]
          },
          "metadata": {},
          "execution_count": 24
        }
      ]
    },
    {
      "cell_type": "code",
      "metadata": {
        "colab": {
          "base_uri": "https://localhost:8080/"
        },
        "id": "iE2k09BdOJhY",
        "outputId": "68445b7b-47b0-4d7a-b5a9-15af3757edee"
      },
      "source": [
        "X.dot(Y)"
      ],
      "execution_count": null,
      "outputs": [
        {
          "output_type": "execute_result",
          "data": {
            "text/plain": [
              "array([[3, 4],\n",
              "       [2, 2]])"
            ]
          },
          "metadata": {},
          "execution_count": 25
        }
      ]
    },
    {
      "cell_type": "code",
      "metadata": {
        "colab": {
          "base_uri": "https://localhost:8080/"
        },
        "id": "aeOd4K8-ONt8",
        "outputId": "a4d71fc7-2d5f-4711-fcf7-449ae452d220"
      },
      "source": [
        "X @ Y"
      ],
      "execution_count": null,
      "outputs": [
        {
          "output_type": "execute_result",
          "data": {
            "text/plain": [
              "array([[3, 4],\n",
              "       [2, 2]])"
            ]
          },
          "metadata": {},
          "execution_count": 26
        }
      ]
    },
    {
      "cell_type": "code",
      "metadata": {
        "colab": {
          "base_uri": "https://localhost:8080/"
        },
        "id": "qnlhTJegOQDd",
        "outputId": "4c76fb0e-b9b7-4c65-d3b9-3b3b665baa76"
      },
      "source": [
        "np.matmul(X,Y)"
      ],
      "execution_count": null,
      "outputs": [
        {
          "output_type": "execute_result",
          "data": {
            "text/plain": [
              "array([[3, 4],\n",
              "       [2, 2]])"
            ]
          },
          "metadata": {},
          "execution_count": 27
        }
      ]
    },
    {
      "cell_type": "markdown",
      "metadata": {
        "id": "SiDcrM2cOVCD"
      },
      "source": [
        "# EXAMPLE"
      ]
    },
    {
      "cell_type": "code",
      "metadata": {
        "id": "Nz3fNivxPBqf"
      },
      "source": [
        "R = np.array([\n",
        "    [9,8],\n",
        "    [5,4]\n",
        "])\n",
        "E = np.array([\n",
        "    [3,7],\n",
        "    [5,9]\n",
        "])"
      ],
      "execution_count": null,
      "outputs": []
    },
    {
      "cell_type": "code",
      "metadata": {
        "colab": {
          "base_uri": "https://localhost:8080/"
        },
        "id": "epJcZvJ-PKVH",
        "outputId": "4384377a-34ee-4a7f-a7d9-ba3c377a2807"
      },
      "source": [
        "np.dot(R,E)"
      ],
      "execution_count": null,
      "outputs": [
        {
          "output_type": "execute_result",
          "data": {
            "text/plain": [
              "array([[ 67, 135],\n",
              "       [ 35,  71]])"
            ]
          },
          "metadata": {},
          "execution_count": 48
        }
      ]
    },
    {
      "cell_type": "code",
      "metadata": {
        "colab": {
          "base_uri": "https://localhost:8080/"
        },
        "id": "wDztGIp-PSOw",
        "outputId": "b0e49348-0001-44d6-c0c1-d70be52a37d2"
      },
      "source": [
        "R.dot(E)"
      ],
      "execution_count": null,
      "outputs": [
        {
          "output_type": "execute_result",
          "data": {
            "text/plain": [
              "array([[ 67, 135],\n",
              "       [ 35,  71]])"
            ]
          },
          "metadata": {},
          "execution_count": 49
        }
      ]
    },
    {
      "cell_type": "code",
      "metadata": {
        "colab": {
          "base_uri": "https://localhost:8080/"
        },
        "id": "gcTrg3cWPVxb",
        "outputId": "e1cb27c6-1d10-4d6d-8013-11098b016dcd"
      },
      "source": [
        "R @ E"
      ],
      "execution_count": null,
      "outputs": [
        {
          "output_type": "execute_result",
          "data": {
            "text/plain": [
              "array([[ 67, 135],\n",
              "       [ 35,  71]])"
            ]
          },
          "metadata": {},
          "execution_count": 50
        }
      ]
    },
    {
      "cell_type": "code",
      "metadata": {
        "colab": {
          "base_uri": "https://localhost:8080/"
        },
        "id": "9NKF0xSPPZSB",
        "outputId": "5313a012-a1d9-4b83-a8af-8452a0c2a107"
      },
      "source": [
        "np.matmul(R,E)"
      ],
      "execution_count": null,
      "outputs": [
        {
          "output_type": "execute_result",
          "data": {
            "text/plain": [
              "array([[ 67, 135],\n",
              "       [ 35,  71]])"
            ]
          },
          "metadata": {},
          "execution_count": 51
        }
      ]
    },
    {
      "cell_type": "markdown",
      "metadata": {
        "id": "5sVnu6AMP3Qz"
      },
      "source": [
        "# RULE 1: the inner dimensions of the matrices in question must be the same\n",
        "\n",
        "So given a matrix $A$ with a shape of $(a,b)$ where $a$ and $b$ are any integers. If we want to do a dot product between $A$ and another matrix $B$, then matrix $B$ should have a shape of $(b,c)$ where $b$ and $c$ are any integers. So for given the following matrices:\n",
        "\n",
        "$$A = \\begin{bmatrix}2&4\\\\5&-2\\\\0&1\\end{bmatrix}, B = \\begin{bmatrix}1&1\\\\3&3\\\\-1&-2\\end{bmatrix}, C = \\begin{bmatrix}0&1&1\\\\1&1&2\\end{bmatrix}$$\n",
        "\n",
        "So in this case $A$ has a shape of $(3,2)$, $B$ has a shape of $(3,2)$ and $C$ has a shape of $(2,3)$. So the only matrix pairs that is eligible to perform dot product is matrices $A \\cdot C$, or $B \\cdot C$.  "
      ]
    },
    {
      "cell_type": "code",
      "metadata": {
        "colab": {
          "base_uri": "https://localhost:8080/"
        },
        "id": "KvcgUy8XQVuT",
        "outputId": "cc9e1a7c-209c-4190-cba8-1cb65a72bfb2"
      },
      "source": [
        "A = np.array([\n",
        "              [2,4],\n",
        "              [5,-2],\n",
        "              [0,1]\n",
        "])\n",
        "B = np.array([\n",
        "              [1,1],\n",
        "              [3,3],\n",
        "              [-1,-1]\n",
        "])\n",
        "C = np.array([\n",
        "              [0,1,1],\n",
        "              [1,1,2]\n",
        "        \n",
        "])\n",
        "\n",
        "print(A.shape)\n",
        "print(B.shape)\n",
        "print(C.shape)"
      ],
      "execution_count": null,
      "outputs": [
        {
          "output_type": "stream",
          "name": "stdout",
          "text": [
            "(3, 2)\n",
            "(3, 2)\n",
            "(2, 3)\n"
          ]
        }
      ]
    },
    {
      "cell_type": "code",
      "metadata": {
        "colab": {
          "base_uri": "https://localhost:8080/"
        },
        "id": "aOoW5t_ORlEt",
        "outputId": "edebb38d-2978-465d-a61c-b68e09356493"
      },
      "source": [
        "A @ C"
      ],
      "execution_count": null,
      "outputs": [
        {
          "output_type": "execute_result",
          "data": {
            "text/plain": [
              "array([[ 4,  6, 10],\n",
              "       [-2,  3,  1],\n",
              "       [ 1,  1,  2]])"
            ]
          },
          "metadata": {},
          "execution_count": 53
        }
      ]
    },
    {
      "cell_type": "code",
      "metadata": {
        "colab": {
          "base_uri": "https://localhost:8080/"
        },
        "id": "4lvxmdm5RqVj",
        "outputId": "3d4aa6c1-12d5-4218-a3df-a8133044825b"
      },
      "source": [
        "B @ C"
      ],
      "execution_count": null,
      "outputs": [
        {
          "output_type": "execute_result",
          "data": {
            "text/plain": [
              "array([[ 1,  2,  3],\n",
              "       [ 3,  6,  9],\n",
              "       [-1, -2, -3]])"
            ]
          },
          "metadata": {},
          "execution_count": 54
        }
      ]
    },
    {
      "cell_type": "code",
      "metadata": {
        "colab": {
          "base_uri": "https://localhost:8080/"
        },
        "id": "7of8SFciR8hT",
        "outputId": "e8a90ec3-9335-4538-e1d6-cec33ed9b538"
      },
      "source": [
        "A @B.T"
      ],
      "execution_count": null,
      "outputs": [
        {
          "output_type": "execute_result",
          "data": {
            "text/plain": [
              "array([[ 6, 18, -6],\n",
              "       [ 3,  9, -3],\n",
              "       [ 1,  3, -1]])"
            ]
          },
          "metadata": {},
          "execution_count": 55
        }
      ]
    },
    {
      "cell_type": "code",
      "metadata": {
        "colab": {
          "base_uri": "https://localhost:8080/"
        },
        "id": "RAM8_HoaSA-E",
        "outputId": "7924666c-922f-4ff6-e645-8553bf8e1be9"
      },
      "source": [
        "X = np.array([\n",
        "              [1,2,3,0]\n",
        "])\n",
        "Y = np.array([\n",
        "              [1,0,4,-1]\n",
        "])\n",
        "print(X.shape)\n",
        "print(Y.shape)"
      ],
      "execution_count": null,
      "outputs": [
        {
          "output_type": "stream",
          "name": "stdout",
          "text": [
            "(1, 4)\n",
            "(1, 4)\n"
          ]
        }
      ]
    },
    {
      "cell_type": "code",
      "metadata": {
        "colab": {
          "base_uri": "https://localhost:8080/"
        },
        "id": "4UVVDGxLSVk9",
        "outputId": "8f2a8429-707f-4cb6-a624-a451482b8779"
      },
      "source": [
        "Y.T@X"
      ],
      "execution_count": null,
      "outputs": [
        {
          "output_type": "execute_result",
          "data": {
            "text/plain": [
              "array([[ 1,  2,  3,  0],\n",
              "       [ 0,  0,  0,  0],\n",
              "       [ 4,  8, 12,  0],\n",
              "       [-1, -2, -3,  0]])"
            ]
          },
          "metadata": {},
          "execution_count": 57
        }
      ]
    },
    {
      "cell_type": "code",
      "metadata": {
        "colab": {
          "base_uri": "https://localhost:8080/"
        },
        "id": "03m4WSEfSZgh",
        "outputId": "f396e015-c21c-4d14-a04a-344654a186a8"
      },
      "source": [
        "X@Y.T"
      ],
      "execution_count": null,
      "outputs": [
        {
          "output_type": "execute_result",
          "data": {
            "text/plain": [
              "array([[13]])"
            ]
          },
          "metadata": {},
          "execution_count": 58
        }
      ]
    },
    {
      "cell_type": "markdown",
      "metadata": {
        "id": "uaJ0rpCzP9dt"
      },
      "source": [
        "# RULE 2: dot product has special properties\n",
        "\n",
        "  Dot products are prevalent in matrix algebra, this implies that it has several unique properties and it should be considered when formulation solutions:\n",
        " 1. $A \\cdot B \\neq B \\cdot A$\n",
        " 2. $A \\cdot (B \\cdot C) = (A \\cdot B) \\cdot C$\n",
        " 3. $A\\cdot(B+C) = A\\cdot B + A\\cdot C$\n",
        " 4. $(B+C)\\cdot A = B\\cdot A + C\\cdot A$\n",
        " 5. $A\\cdot I = A$\n",
        " 6. $A\\cdot \\emptyset = \\emptyset$ "
      ]
    },
    {
      "cell_type": "code",
      "metadata": {
        "colab": {
          "base_uri": "https://localhost:8080/"
        },
        "id": "4royUCIGTCPJ",
        "outputId": "180b4558-4af5-45c2-8113-4cb3fc1805bd"
      },
      "source": [
        "A = np.array([\n",
        "              [1,2,3],\n",
        "              [4,5,6],\n",
        "              [7,8,9]\n",
        "])\n",
        "B = np.array([\n",
        "              [9,8,7],\n",
        "              [6,5,4],\n",
        "              [3,2,1]\n",
        "])\n",
        "C = np.array([\n",
        "              [1,3,5],\n",
        "              [7,9,2],\n",
        "              [4,6,8]\n",
        "        \n",
        "])\n",
        "\n",
        "print(A.shape)\n",
        "print(B.shape)\n",
        "print(C.shape)"
      ],
      "execution_count": null,
      "outputs": [
        {
          "output_type": "stream",
          "name": "stdout",
          "text": [
            "(3, 3)\n",
            "(3, 3)\n",
            "(3, 3)\n"
          ]
        }
      ]
    },
    {
      "cell_type": "markdown",
      "metadata": {
        "id": "jK99ysnoUQIB"
      },
      "source": [
        "#first"
      ]
    },
    {
      "cell_type": "code",
      "metadata": {
        "id": "rv9O1nmdQGIo"
      },
      "source": [
        "A1 = A@B\n",
        "A2 = B@A\n"
      ],
      "execution_count": null,
      "outputs": []
    },
    {
      "cell_type": "code",
      "metadata": {
        "colab": {
          "base_uri": "https://localhost:8080/"
        },
        "id": "8u4dA40mUHdx",
        "outputId": "71767299-0f84-475d-9eba-4a10ba26dcc1"
      },
      "source": [
        "np.array_equiv(A1, A2)"
      ],
      "execution_count": null,
      "outputs": [
        {
          "output_type": "execute_result",
          "data": {
            "text/plain": [
              "False"
            ]
          },
          "metadata": {},
          "execution_count": 63
        }
      ]
    },
    {
      "cell_type": "markdown",
      "metadata": {
        "id": "eekKxMIrUUDk"
      },
      "source": [
        "# second"
      ]
    },
    {
      "cell_type": "code",
      "metadata": {
        "id": "a7Kmdw4BUDm1"
      },
      "source": [
        "A3 = A@(B@C)"
      ],
      "execution_count": null,
      "outputs": []
    },
    {
      "cell_type": "code",
      "metadata": {
        "id": "uszoEcPuUfLc"
      },
      "source": [
        "A4 = (A@B)@C"
      ],
      "execution_count": null,
      "outputs": []
    },
    {
      "cell_type": "code",
      "metadata": {
        "colab": {
          "base_uri": "https://localhost:8080/"
        },
        "id": "gEWxFnSjUsYI",
        "outputId": "61be5005-fb13-4603-9f04-ec347ca7d530"
      },
      "source": [
        "np.array_equiv(A3, A4)"
      ],
      "execution_count": null,
      "outputs": [
        {
          "output_type": "execute_result",
          "data": {
            "text/plain": [
              "True"
            ]
          },
          "metadata": {},
          "execution_count": 69
        }
      ]
    },
    {
      "cell_type": "markdown",
      "metadata": {
        "id": "UhRcvWm6U2Z2"
      },
      "source": [
        "#third"
      ]
    },
    {
      "cell_type": "code",
      "metadata": {
        "id": "n7BjMhspU4sn"
      },
      "source": [
        "A5 = A@(B+C)"
      ],
      "execution_count": null,
      "outputs": []
    },
    {
      "cell_type": "code",
      "metadata": {
        "id": "jcOTCHLWVLM0"
      },
      "source": [
        "A6 = (A@B)+(A@C)"
      ],
      "execution_count": null,
      "outputs": []
    },
    {
      "cell_type": "code",
      "metadata": {
        "colab": {
          "base_uri": "https://localhost:8080/"
        },
        "id": "PneuJmr3VVj9",
        "outputId": "1607e310-0888-4b58-84b5-c2c5379f9933"
      },
      "source": [
        "np.array_equiv(A5, A6)"
      ],
      "execution_count": null,
      "outputs": [
        {
          "output_type": "execute_result",
          "data": {
            "text/plain": [
              "True"
            ]
          },
          "metadata": {},
          "execution_count": 74
        }
      ]
    },
    {
      "cell_type": "markdown",
      "metadata": {
        "id": "C3mJb7XtVbUV"
      },
      "source": [
        "#fourth"
      ]
    },
    {
      "cell_type": "code",
      "metadata": {
        "id": "jAYZjE_7VdnY"
      },
      "source": [
        "A7 = (B+C)@A"
      ],
      "execution_count": null,
      "outputs": []
    },
    {
      "cell_type": "code",
      "metadata": {
        "id": "LuSFlzstVpJR"
      },
      "source": [
        "A8 = (B@A)+(C@A)"
      ],
      "execution_count": null,
      "outputs": []
    },
    {
      "cell_type": "code",
      "metadata": {
        "colab": {
          "base_uri": "https://localhost:8080/"
        },
        "id": "fATCTsvPUp9-",
        "outputId": "6a5ab06a-ddae-4f14-e6c8-ef8ab2cdf097"
      },
      "source": [
        "np.array_equiv(A7,A8)"
      ],
      "execution_count": null,
      "outputs": [
        {
          "output_type": "execute_result",
          "data": {
            "text/plain": [
              "True"
            ]
          },
          "metadata": {},
          "execution_count": 78
        }
      ]
    },
    {
      "cell_type": "markdown",
      "metadata": {
        "id": "wl45t39oV057"
      },
      "source": [
        "#FIFTH"
      ]
    },
    {
      "cell_type": "code",
      "metadata": {
        "id": "F-dai8eKV2g6"
      },
      "source": [
        "A9 = np.identity(3)"
      ],
      "execution_count": null,
      "outputs": []
    },
    {
      "cell_type": "code",
      "metadata": {
        "id": "WAVq_SGWYoxc"
      },
      "source": [
        "A10 = A.dot(np.identity(3))"
      ],
      "execution_count": null,
      "outputs": []
    },
    {
      "cell_type": "code",
      "metadata": {
        "colab": {
          "base_uri": "https://localhost:8080/"
        },
        "id": "qzo_lwI1Y2wO",
        "outputId": "eab118ab-d9af-402e-8561-9ad5e9cf8ba9"
      },
      "source": [
        "np.array_equiv(A9,A10)"
      ],
      "execution_count": null,
      "outputs": [
        {
          "output_type": "execute_result",
          "data": {
            "text/plain": [
              "False"
            ]
          },
          "metadata": {},
          "execution_count": 84
        }
      ]
    },
    {
      "cell_type": "markdown",
      "metadata": {
        "id": "uiM4pcmPZD2A"
      },
      "source": [
        "#DETERMINANTS"
      ]
    },
    {
      "cell_type": "code",
      "metadata": {
        "colab": {
          "base_uri": "https://localhost:8080/"
        },
        "id": "9KyjmVYqZGbZ",
        "outputId": "abaf1a66-b333-41fb-955f-f42b521d44b1"
      },
      "source": [
        "A = np.array([\n",
        "    [1,4],\n",
        "    [0,3]\n",
        "])\n",
        "np.linalg.det(A)"
      ],
      "execution_count": null,
      "outputs": [
        {
          "output_type": "execute_result",
          "data": {
            "text/plain": [
              "3.0000000000000004"
            ]
          },
          "metadata": {},
          "execution_count": 85
        }
      ]
    },
    {
      "cell_type": "code",
      "metadata": {
        "colab": {
          "base_uri": "https://localhost:8080/"
        },
        "id": "W0ZDfdpyZaSE",
        "outputId": "047024bd-64da-4056-81fd-2976a73febd0"
      },
      "source": [
        "B = np.array([\n",
        "    [1,5,2],\n",
        "    [3,-1,-1],\n",
        "    [0,-2,1]\n",
        "])\n",
        "np.linalg.det(B)"
      ],
      "execution_count": null,
      "outputs": [
        {
          "output_type": "execute_result",
          "data": {
            "text/plain": [
              "-30.000000000000014"
            ]
          },
          "metadata": {},
          "execution_count": 88
        }
      ]
    },
    {
      "cell_type": "markdown",
      "metadata": {
        "id": "TLBZ4spgaQ4r"
      },
      "source": [
        "#inverse\n"
      ]
    },
    {
      "cell_type": "code",
      "metadata": {
        "colab": {
          "base_uri": "https://localhost:8080/"
        },
        "id": "IG6nXkpcaftm",
        "outputId": "6b6c27da-65c6-4533-d96c-993d8fdb30ba"
      },
      "source": [
        "M = np.array([\n",
        "              [1,7],\n",
        "              [-3,5]\n",
        "])\n",
        "np.array(M @ np.linalg.inv(M), dtype=int)"
      ],
      "execution_count": null,
      "outputs": [
        {
          "output_type": "execute_result",
          "data": {
            "text/plain": [
              "array([[1, 0],\n",
              "       [0, 1]])"
            ]
          },
          "metadata": {},
          "execution_count": 90
        }
      ]
    },
    {
      "cell_type": "code",
      "metadata": {
        "colab": {
          "base_uri": "https://localhost:8080/"
        },
        "id": "WbTMiDg0bGKb",
        "outputId": "9f035a58-5a94-4982-a8fe-5e7ced05f361"
      },
      "source": [
        "P = np.array([\n",
        "              [6,9,0],\n",
        "              [4,2,-1],\n",
        "              [3,6,7]\n",
        "])\n",
        "Q = np.linalg.inv(P)\n",
        "Q"
      ],
      "execution_count": null,
      "outputs": [
        {
          "output_type": "execute_result",
          "data": {
            "text/plain": [
              "array([[-0.12578616,  0.39622642,  0.05660377],\n",
              "       [ 0.19496855, -0.26415094, -0.03773585],\n",
              "       [-0.11320755,  0.05660377,  0.1509434 ]])"
            ]
          },
          "metadata": {},
          "execution_count": 95
        }
      ]
    },
    {
      "cell_type": "code",
      "metadata": {
        "id": "VEI88g1VbpMp",
        "colab": {
          "base_uri": "https://localhost:8080/"
        },
        "outputId": "8a290d39-76b7-45ca-edd1-f5b8bfcf992d"
      },
      "source": [
        "P @ Q"
      ],
      "execution_count": null,
      "outputs": [
        {
          "output_type": "execute_result",
          "data": {
            "text/plain": [
              "array([[ 1.00000000e+00, -5.55111512e-17, -6.93889390e-18],\n",
              "       [ 8.32667268e-17,  1.00000000e+00, -2.77555756e-17],\n",
              "       [ 2.77555756e-17, -1.38777878e-17,  1.00000000e+00]])"
            ]
          },
          "metadata": {},
          "execution_count": 96
        }
      ]
    },
    {
      "cell_type": "code",
      "metadata": {
        "colab": {
          "base_uri": "https://localhost:8080/"
        },
        "id": "Alaz7wd4a80_",
        "outputId": "aa86d1dd-5ccf-4238-9007-31013a0f9e85"
      },
      "source": [
        "P = np.array([\n",
        "              [6,9,0],\n",
        "              [4,2,-1],\n",
        "              [3,6,7]\n",
        "])\n",
        "np.array(M @ np.linalg.inv(M), dtype=int)"
      ],
      "execution_count": null,
      "outputs": [
        {
          "output_type": "execute_result",
          "data": {
            "text/plain": [
              "array([[1, 0],\n",
              "       [0, 1]])"
            ]
          },
          "metadata": {},
          "execution_count": 92
        }
      ]
    },
    {
      "cell_type": "code",
      "metadata": {
        "id": "FbfQdRn7a7nQ"
      },
      "source": [
        ""
      ],
      "execution_count": null,
      "outputs": []
    }
  ]
}